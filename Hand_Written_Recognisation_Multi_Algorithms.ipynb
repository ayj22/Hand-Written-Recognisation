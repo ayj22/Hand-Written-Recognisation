{
  "nbformat": 4,
  "nbformat_minor": 0,
  "metadata": {
    "colab": {
      "name": "Hand-Written-Recognisation-Multi-Algorithms",
      "provenance": []
    },
    "kernelspec": {
      "name": "python3",
      "display_name": "Python 3"
    }
  },
  "cells": [
    {
      "cell_type": "markdown",
      "metadata": {
        "id": "bKnPPiAminlV",
        "colab_type": "text"
      },
      "source": [
        "In this Project we are going to make a model that predict the digit or numbers which are hard to understand or high in numbers. In this we have taken the inbuilt dataset of keras Mnist. \n",
        "\n",
        "This Dataset is consist of training set with 60k images and test set with 10k images in the form of 28*28 pixels.\n"
      ]
    },
    {
      "cell_type": "code",
      "metadata": {
        "id": "7fxw2g7Vdj8l",
        "colab_type": "code",
        "colab": {
          "base_uri": "https://localhost:8080/",
          "height": 34
        },
        "outputId": "a5b14b31-397e-4bde-a4f3-b4ed383a2d61"
      },
      "source": [
        "# Importing the tensorflow:\n",
        "import tensorflow.keras as keras\n",
        "import tensorflow as tf\n",
        "print(tf.__version__)"
      ],
      "execution_count": 1,
      "outputs": [
        {
          "output_type": "stream",
          "text": [
            "2.2.0\n"
          ],
          "name": "stdout"
        }
      ]
    },
    {
      "cell_type": "code",
      "metadata": {
        "id": "9BtQ9WAEjD4R",
        "colab_type": "code",
        "colab": {
          "base_uri": "https://localhost:8080/",
          "height": 68
        },
        "outputId": "50e8163d-5021-4d4a-b573-42f3938d0552"
      },
      "source": [
        "# Importing the keras packakes\n",
        "import keras\n",
        "from keras.datasets import mnist\n",
        "from keras.models import Sequential\n",
        "from keras.layers import Dense, Dropout, Flatten\n",
        "from keras.layers import Conv2D, MaxPooling2D\n",
        "from keras import backend as K\n",
        "\n",
        "\n",
        "#Python basic libraries for machine learning:\n",
        "import pandas as pd\n",
        "import numpy as np\n",
        "import seaborn as sns\n",
        "import matplotlib.pyplot as plt\n",
        "import plotly.graph_objs as go\n",
        "\n",
        "#Library & tools for model improvement and evaluation:\n",
        "from sklearn.model_selection import train_test_split, cross_val_score\n",
        "from sklearn.model_selection import RandomizedSearchCV, GridSearchCV\n",
        "from sklearn.metrics import confusion_matrix, classification_report\n",
        "from sklearn.metrics import precision_score, recall_score, f1_score\n",
        "from sklearn.metrics import plot_roc_curve"
      ],
      "execution_count": 2,
      "outputs": [
        {
          "output_type": "stream",
          "text": [
            "Using TensorFlow backend.\n",
            "/usr/local/lib/python3.6/dist-packages/statsmodels/tools/_testing.py:19: FutureWarning: pandas.util.testing is deprecated. Use the functions in the public API at pandas.testing instead.\n",
            "  import pandas.util.testing as tm\n"
          ],
          "name": "stderr"
        }
      ]
    },
    {
      "cell_type": "code",
      "metadata": {
        "id": "WaFt66sAofsS",
        "colab_type": "code",
        "colab": {
          "base_uri": "https://localhost:8080/",
          "height": 85
        },
        "outputId": "bbc0b1f1-e421-46e7-d616-47aad9f47ff2"
      },
      "source": [
        "# the data, split between train and test sets\n",
        "(X_train, y_train), (X_test, y_test) = mnist.load_data()\n",
        "print(X_train.shape, y_train.shape)\n",
        "print(X_test.shape, y_test.shape)"
      ],
      "execution_count": 3,
      "outputs": [
        {
          "output_type": "stream",
          "text": [
            "Downloading data from https://s3.amazonaws.com/img-datasets/mnist.npz\n",
            "11493376/11490434 [==============================] - 0s 0us/step\n",
            "(60000, 28, 28) (60000,)\n",
            "(10000, 28, 28) (10000,)\n"
          ],
          "name": "stdout"
        }
      ]
    },
    {
      "cell_type": "code",
      "metadata": {
        "id": "Zzdkw_l_uA6b",
        "colab_type": "code",
        "colab": {
          "base_uri": "https://localhost:8080/",
          "height": 850
        },
        "outputId": "b46066b6-dbd0-4949-91a4-2b6837926b50"
      },
      "source": [
        "#Training set in the form of array\n",
        "X_train"
      ],
      "execution_count": 4,
      "outputs": [
        {
          "output_type": "execute_result",
          "data": {
            "text/plain": [
              "array([[[0, 0, 0, ..., 0, 0, 0],\n",
              "        [0, 0, 0, ..., 0, 0, 0],\n",
              "        [0, 0, 0, ..., 0, 0, 0],\n",
              "        ...,\n",
              "        [0, 0, 0, ..., 0, 0, 0],\n",
              "        [0, 0, 0, ..., 0, 0, 0],\n",
              "        [0, 0, 0, ..., 0, 0, 0]],\n",
              "\n",
              "       [[0, 0, 0, ..., 0, 0, 0],\n",
              "        [0, 0, 0, ..., 0, 0, 0],\n",
              "        [0, 0, 0, ..., 0, 0, 0],\n",
              "        ...,\n",
              "        [0, 0, 0, ..., 0, 0, 0],\n",
              "        [0, 0, 0, ..., 0, 0, 0],\n",
              "        [0, 0, 0, ..., 0, 0, 0]],\n",
              "\n",
              "       [[0, 0, 0, ..., 0, 0, 0],\n",
              "        [0, 0, 0, ..., 0, 0, 0],\n",
              "        [0, 0, 0, ..., 0, 0, 0],\n",
              "        ...,\n",
              "        [0, 0, 0, ..., 0, 0, 0],\n",
              "        [0, 0, 0, ..., 0, 0, 0],\n",
              "        [0, 0, 0, ..., 0, 0, 0]],\n",
              "\n",
              "       ...,\n",
              "\n",
              "       [[0, 0, 0, ..., 0, 0, 0],\n",
              "        [0, 0, 0, ..., 0, 0, 0],\n",
              "        [0, 0, 0, ..., 0, 0, 0],\n",
              "        ...,\n",
              "        [0, 0, 0, ..., 0, 0, 0],\n",
              "        [0, 0, 0, ..., 0, 0, 0],\n",
              "        [0, 0, 0, ..., 0, 0, 0]],\n",
              "\n",
              "       [[0, 0, 0, ..., 0, 0, 0],\n",
              "        [0, 0, 0, ..., 0, 0, 0],\n",
              "        [0, 0, 0, ..., 0, 0, 0],\n",
              "        ...,\n",
              "        [0, 0, 0, ..., 0, 0, 0],\n",
              "        [0, 0, 0, ..., 0, 0, 0],\n",
              "        [0, 0, 0, ..., 0, 0, 0]],\n",
              "\n",
              "       [[0, 0, 0, ..., 0, 0, 0],\n",
              "        [0, 0, 0, ..., 0, 0, 0],\n",
              "        [0, 0, 0, ..., 0, 0, 0],\n",
              "        ...,\n",
              "        [0, 0, 0, ..., 0, 0, 0],\n",
              "        [0, 0, 0, ..., 0, 0, 0],\n",
              "        [0, 0, 0, ..., 0, 0, 0]]], dtype=uint8)"
            ]
          },
          "metadata": {
            "tags": []
          },
          "execution_count": 4
        }
      ]
    },
    {
      "cell_type": "code",
      "metadata": {
        "id": "kuaiPTqAMQgj",
        "colab_type": "code",
        "colab": {
          "base_uri": "https://localhost:8080/",
          "height": 34
        },
        "outputId": "d6756bba-56b0-4723-bbd6-ceba4a2cbbca"
      },
      "source": [
        "#Training set in the form of array of labels\n",
        "y_train"
      ],
      "execution_count": 5,
      "outputs": [
        {
          "output_type": "execute_result",
          "data": {
            "text/plain": [
              "array([5, 0, 4, ..., 5, 6, 8], dtype=uint8)"
            ]
          },
          "metadata": {
            "tags": []
          },
          "execution_count": 5
        }
      ]
    },
    {
      "cell_type": "code",
      "metadata": {
        "id": "EtbURA6fzYCZ",
        "colab_type": "code",
        "colab": {
          "base_uri": "https://localhost:8080/",
          "height": 34
        },
        "outputId": "0efbd412-e055-403d-dbdd-4543ca29c57e"
      },
      "source": [
        "# Changing the shape training set to 2-dimensional\n",
        "X_train =np.array(X_train)\n",
        "X_train = X_train.reshape(X_train.shape[0], -1)\n",
        "\n",
        "y_train=np.array(y_train)\n",
        "\n",
        "print(X_train.shape, y_train.shape)"
      ],
      "execution_count": 6,
      "outputs": [
        {
          "output_type": "stream",
          "text": [
            "(60000, 784) (60000,)\n"
          ],
          "name": "stdout"
        }
      ]
    },
    {
      "cell_type": "code",
      "metadata": {
        "id": "1dTvooHcItUP",
        "colab_type": "code",
        "colab": {
          "base_uri": "https://localhost:8080/",
          "height": 34
        },
        "outputId": "44eedca7-717d-482b-acd5-70a99cd2554d"
      },
      "source": [
        "# Changing the shape test set to 2-dimensional\n",
        "X_test =np.array(X_test)\n",
        "X_test = X_test.reshape(X_test.shape[0], -1)\n",
        "\n",
        "y_test=np.array(y_test)\n",
        "\n",
        "print(X_test.shape, y_test.shape)"
      ],
      "execution_count": 7,
      "outputs": [
        {
          "output_type": "stream",
          "text": [
            "(10000, 784) (10000,)\n"
          ],
          "name": "stdout"
        }
      ]
    },
    {
      "cell_type": "code",
      "metadata": {
        "id": "lPr_6n5TNS7b",
        "colab_type": "code",
        "colab": {}
      },
      "source": [
        "#Normalizing the dataset to bring in the range of 0 & 1\n",
        "from sklearn.preprocessing import StandardScaler\n",
        "sc = StandardScaler()\n",
        "X_train = sc.fit_transform(X_train)\n",
        "X_test = sc.transform(X_test)"
      ],
      "execution_count": 8,
      "outputs": []
    },
    {
      "cell_type": "code",
      "metadata": {
        "id": "v5v6o1hBCMoh",
        "colab_type": "code",
        "colab": {}
      },
      "source": [
        "#Converitng the arrays to dataframes to process in the models\n",
        "A_train= pd.DataFrame(X_train)\n",
        "b_train = pd.DataFrame(y_train)\n"
      ],
      "execution_count": 9,
      "outputs": []
    },
    {
      "cell_type": "code",
      "metadata": {
        "id": "QecqWD38K6x2",
        "colab_type": "code",
        "colab": {
          "base_uri": "https://localhost:8080/",
          "height": 253
        },
        "outputId": "02077c31-3350-4c63-852f-81f5872bd069"
      },
      "source": [
        "#Training set as dataframe\n",
        "A_train.head()"
      ],
      "execution_count": 10,
      "outputs": [
        {
          "output_type": "execute_result",
          "data": {
            "text/html": [
              "<div>\n",
              "<style scoped>\n",
              "    .dataframe tbody tr th:only-of-type {\n",
              "        vertical-align: middle;\n",
              "    }\n",
              "\n",
              "    .dataframe tbody tr th {\n",
              "        vertical-align: top;\n",
              "    }\n",
              "\n",
              "    .dataframe thead th {\n",
              "        text-align: right;\n",
              "    }\n",
              "</style>\n",
              "<table border=\"1\" class=\"dataframe\">\n",
              "  <thead>\n",
              "    <tr style=\"text-align: right;\">\n",
              "      <th></th>\n",
              "      <th>0</th>\n",
              "      <th>1</th>\n",
              "      <th>2</th>\n",
              "      <th>3</th>\n",
              "      <th>4</th>\n",
              "      <th>5</th>\n",
              "      <th>6</th>\n",
              "      <th>7</th>\n",
              "      <th>8</th>\n",
              "      <th>9</th>\n",
              "      <th>10</th>\n",
              "      <th>11</th>\n",
              "      <th>12</th>\n",
              "      <th>13</th>\n",
              "      <th>14</th>\n",
              "      <th>15</th>\n",
              "      <th>16</th>\n",
              "      <th>17</th>\n",
              "      <th>18</th>\n",
              "      <th>19</th>\n",
              "      <th>20</th>\n",
              "      <th>21</th>\n",
              "      <th>22</th>\n",
              "      <th>23</th>\n",
              "      <th>24</th>\n",
              "      <th>25</th>\n",
              "      <th>26</th>\n",
              "      <th>27</th>\n",
              "      <th>28</th>\n",
              "      <th>29</th>\n",
              "      <th>30</th>\n",
              "      <th>31</th>\n",
              "      <th>32</th>\n",
              "      <th>33</th>\n",
              "      <th>34</th>\n",
              "      <th>35</th>\n",
              "      <th>36</th>\n",
              "      <th>37</th>\n",
              "      <th>38</th>\n",
              "      <th>39</th>\n",
              "      <th>...</th>\n",
              "      <th>744</th>\n",
              "      <th>745</th>\n",
              "      <th>746</th>\n",
              "      <th>747</th>\n",
              "      <th>748</th>\n",
              "      <th>749</th>\n",
              "      <th>750</th>\n",
              "      <th>751</th>\n",
              "      <th>752</th>\n",
              "      <th>753</th>\n",
              "      <th>754</th>\n",
              "      <th>755</th>\n",
              "      <th>756</th>\n",
              "      <th>757</th>\n",
              "      <th>758</th>\n",
              "      <th>759</th>\n",
              "      <th>760</th>\n",
              "      <th>761</th>\n",
              "      <th>762</th>\n",
              "      <th>763</th>\n",
              "      <th>764</th>\n",
              "      <th>765</th>\n",
              "      <th>766</th>\n",
              "      <th>767</th>\n",
              "      <th>768</th>\n",
              "      <th>769</th>\n",
              "      <th>770</th>\n",
              "      <th>771</th>\n",
              "      <th>772</th>\n",
              "      <th>773</th>\n",
              "      <th>774</th>\n",
              "      <th>775</th>\n",
              "      <th>776</th>\n",
              "      <th>777</th>\n",
              "      <th>778</th>\n",
              "      <th>779</th>\n",
              "      <th>780</th>\n",
              "      <th>781</th>\n",
              "      <th>782</th>\n",
              "      <th>783</th>\n",
              "    </tr>\n",
              "  </thead>\n",
              "  <tbody>\n",
              "    <tr>\n",
              "      <th>0</th>\n",
              "      <td>0.0</td>\n",
              "      <td>0.0</td>\n",
              "      <td>0.0</td>\n",
              "      <td>0.0</td>\n",
              "      <td>0.0</td>\n",
              "      <td>0.0</td>\n",
              "      <td>0.0</td>\n",
              "      <td>0.0</td>\n",
              "      <td>0.0</td>\n",
              "      <td>0.0</td>\n",
              "      <td>0.0</td>\n",
              "      <td>0.0</td>\n",
              "      <td>-0.004418</td>\n",
              "      <td>-0.005755</td>\n",
              "      <td>-0.004083</td>\n",
              "      <td>-0.004083</td>\n",
              "      <td>0.0</td>\n",
              "      <td>0.0</td>\n",
              "      <td>0.0</td>\n",
              "      <td>0.0</td>\n",
              "      <td>0.0</td>\n",
              "      <td>0.0</td>\n",
              "      <td>0.0</td>\n",
              "      <td>0.0</td>\n",
              "      <td>0.0</td>\n",
              "      <td>0.0</td>\n",
              "      <td>0.0</td>\n",
              "      <td>0.0</td>\n",
              "      <td>0.0</td>\n",
              "      <td>0.0</td>\n",
              "      <td>0.0</td>\n",
              "      <td>0.0</td>\n",
              "      <td>-0.004083</td>\n",
              "      <td>-0.00471</td>\n",
              "      <td>-0.008799</td>\n",
              "      <td>-0.011591</td>\n",
              "      <td>-0.014759</td>\n",
              "      <td>-0.019285</td>\n",
              "      <td>-0.024672</td>\n",
              "      <td>-0.029071</td>\n",
              "      <td>...</td>\n",
              "      <td>-0.135433</td>\n",
              "      <td>-0.116480</td>\n",
              "      <td>-0.093951</td>\n",
              "      <td>-0.072577</td>\n",
              "      <td>-0.052364</td>\n",
              "      <td>-0.036383</td>\n",
              "      <td>-0.021503</td>\n",
              "      <td>-0.013019</td>\n",
              "      <td>-0.004494</td>\n",
              "      <td>-0.004083</td>\n",
              "      <td>0.0</td>\n",
              "      <td>0.0</td>\n",
              "      <td>0.0</td>\n",
              "      <td>0.0</td>\n",
              "      <td>0.0</td>\n",
              "      <td>0.0</td>\n",
              "      <td>-0.00579</td>\n",
              "      <td>-0.009054</td>\n",
              "      <td>-0.016005</td>\n",
              "      <td>-0.02212</td>\n",
              "      <td>-0.026846</td>\n",
              "      <td>-0.031845</td>\n",
              "      <td>-0.043748</td>\n",
              "      <td>-0.047283</td>\n",
              "      <td>-0.053139</td>\n",
              "      <td>-0.056623</td>\n",
              "      <td>-0.060338</td>\n",
              "      <td>-0.056295</td>\n",
              "      <td>-0.051367</td>\n",
              "      <td>-0.042632</td>\n",
              "      <td>-0.033171</td>\n",
              "      <td>-0.022463</td>\n",
              "      <td>-0.016069</td>\n",
              "      <td>-0.011432</td>\n",
              "      <td>-0.009007</td>\n",
              "      <td>-0.00577</td>\n",
              "      <td>0.0</td>\n",
              "      <td>0.0</td>\n",
              "      <td>0.0</td>\n",
              "      <td>0.0</td>\n",
              "    </tr>\n",
              "    <tr>\n",
              "      <th>1</th>\n",
              "      <td>0.0</td>\n",
              "      <td>0.0</td>\n",
              "      <td>0.0</td>\n",
              "      <td>0.0</td>\n",
              "      <td>0.0</td>\n",
              "      <td>0.0</td>\n",
              "      <td>0.0</td>\n",
              "      <td>0.0</td>\n",
              "      <td>0.0</td>\n",
              "      <td>0.0</td>\n",
              "      <td>0.0</td>\n",
              "      <td>0.0</td>\n",
              "      <td>-0.004418</td>\n",
              "      <td>-0.005755</td>\n",
              "      <td>-0.004083</td>\n",
              "      <td>-0.004083</td>\n",
              "      <td>0.0</td>\n",
              "      <td>0.0</td>\n",
              "      <td>0.0</td>\n",
              "      <td>0.0</td>\n",
              "      <td>0.0</td>\n",
              "      <td>0.0</td>\n",
              "      <td>0.0</td>\n",
              "      <td>0.0</td>\n",
              "      <td>0.0</td>\n",
              "      <td>0.0</td>\n",
              "      <td>0.0</td>\n",
              "      <td>0.0</td>\n",
              "      <td>0.0</td>\n",
              "      <td>0.0</td>\n",
              "      <td>0.0</td>\n",
              "      <td>0.0</td>\n",
              "      <td>-0.004083</td>\n",
              "      <td>-0.00471</td>\n",
              "      <td>-0.008799</td>\n",
              "      <td>-0.011591</td>\n",
              "      <td>-0.014759</td>\n",
              "      <td>-0.019285</td>\n",
              "      <td>-0.024672</td>\n",
              "      <td>-0.029071</td>\n",
              "      <td>...</td>\n",
              "      <td>-0.135433</td>\n",
              "      <td>-0.116480</td>\n",
              "      <td>-0.093951</td>\n",
              "      <td>-0.072577</td>\n",
              "      <td>-0.052364</td>\n",
              "      <td>-0.036383</td>\n",
              "      <td>-0.021503</td>\n",
              "      <td>-0.013019</td>\n",
              "      <td>-0.004494</td>\n",
              "      <td>-0.004083</td>\n",
              "      <td>0.0</td>\n",
              "      <td>0.0</td>\n",
              "      <td>0.0</td>\n",
              "      <td>0.0</td>\n",
              "      <td>0.0</td>\n",
              "      <td>0.0</td>\n",
              "      <td>-0.00579</td>\n",
              "      <td>-0.009054</td>\n",
              "      <td>-0.016005</td>\n",
              "      <td>-0.02212</td>\n",
              "      <td>-0.026846</td>\n",
              "      <td>-0.031845</td>\n",
              "      <td>-0.043748</td>\n",
              "      <td>-0.047283</td>\n",
              "      <td>-0.053139</td>\n",
              "      <td>-0.056623</td>\n",
              "      <td>-0.060338</td>\n",
              "      <td>-0.056295</td>\n",
              "      <td>-0.051367</td>\n",
              "      <td>-0.042632</td>\n",
              "      <td>-0.033171</td>\n",
              "      <td>-0.022463</td>\n",
              "      <td>-0.016069</td>\n",
              "      <td>-0.011432</td>\n",
              "      <td>-0.009007</td>\n",
              "      <td>-0.00577</td>\n",
              "      <td>0.0</td>\n",
              "      <td>0.0</td>\n",
              "      <td>0.0</td>\n",
              "      <td>0.0</td>\n",
              "    </tr>\n",
              "    <tr>\n",
              "      <th>2</th>\n",
              "      <td>0.0</td>\n",
              "      <td>0.0</td>\n",
              "      <td>0.0</td>\n",
              "      <td>0.0</td>\n",
              "      <td>0.0</td>\n",
              "      <td>0.0</td>\n",
              "      <td>0.0</td>\n",
              "      <td>0.0</td>\n",
              "      <td>0.0</td>\n",
              "      <td>0.0</td>\n",
              "      <td>0.0</td>\n",
              "      <td>0.0</td>\n",
              "      <td>-0.004418</td>\n",
              "      <td>-0.005755</td>\n",
              "      <td>-0.004083</td>\n",
              "      <td>-0.004083</td>\n",
              "      <td>0.0</td>\n",
              "      <td>0.0</td>\n",
              "      <td>0.0</td>\n",
              "      <td>0.0</td>\n",
              "      <td>0.0</td>\n",
              "      <td>0.0</td>\n",
              "      <td>0.0</td>\n",
              "      <td>0.0</td>\n",
              "      <td>0.0</td>\n",
              "      <td>0.0</td>\n",
              "      <td>0.0</td>\n",
              "      <td>0.0</td>\n",
              "      <td>0.0</td>\n",
              "      <td>0.0</td>\n",
              "      <td>0.0</td>\n",
              "      <td>0.0</td>\n",
              "      <td>-0.004083</td>\n",
              "      <td>-0.00471</td>\n",
              "      <td>-0.008799</td>\n",
              "      <td>-0.011591</td>\n",
              "      <td>-0.014759</td>\n",
              "      <td>-0.019285</td>\n",
              "      <td>-0.024672</td>\n",
              "      <td>-0.029071</td>\n",
              "      <td>...</td>\n",
              "      <td>-0.135433</td>\n",
              "      <td>-0.116480</td>\n",
              "      <td>-0.093951</td>\n",
              "      <td>-0.072577</td>\n",
              "      <td>-0.052364</td>\n",
              "      <td>-0.036383</td>\n",
              "      <td>-0.021503</td>\n",
              "      <td>-0.013019</td>\n",
              "      <td>-0.004494</td>\n",
              "      <td>-0.004083</td>\n",
              "      <td>0.0</td>\n",
              "      <td>0.0</td>\n",
              "      <td>0.0</td>\n",
              "      <td>0.0</td>\n",
              "      <td>0.0</td>\n",
              "      <td>0.0</td>\n",
              "      <td>-0.00579</td>\n",
              "      <td>-0.009054</td>\n",
              "      <td>-0.016005</td>\n",
              "      <td>-0.02212</td>\n",
              "      <td>-0.026846</td>\n",
              "      <td>-0.031845</td>\n",
              "      <td>-0.043748</td>\n",
              "      <td>-0.047283</td>\n",
              "      <td>-0.053139</td>\n",
              "      <td>-0.056623</td>\n",
              "      <td>-0.060338</td>\n",
              "      <td>-0.056295</td>\n",
              "      <td>-0.051367</td>\n",
              "      <td>-0.042632</td>\n",
              "      <td>-0.033171</td>\n",
              "      <td>-0.022463</td>\n",
              "      <td>-0.016069</td>\n",
              "      <td>-0.011432</td>\n",
              "      <td>-0.009007</td>\n",
              "      <td>-0.00577</td>\n",
              "      <td>0.0</td>\n",
              "      <td>0.0</td>\n",
              "      <td>0.0</td>\n",
              "      <td>0.0</td>\n",
              "    </tr>\n",
              "    <tr>\n",
              "      <th>3</th>\n",
              "      <td>0.0</td>\n",
              "      <td>0.0</td>\n",
              "      <td>0.0</td>\n",
              "      <td>0.0</td>\n",
              "      <td>0.0</td>\n",
              "      <td>0.0</td>\n",
              "      <td>0.0</td>\n",
              "      <td>0.0</td>\n",
              "      <td>0.0</td>\n",
              "      <td>0.0</td>\n",
              "      <td>0.0</td>\n",
              "      <td>0.0</td>\n",
              "      <td>-0.004418</td>\n",
              "      <td>-0.005755</td>\n",
              "      <td>-0.004083</td>\n",
              "      <td>-0.004083</td>\n",
              "      <td>0.0</td>\n",
              "      <td>0.0</td>\n",
              "      <td>0.0</td>\n",
              "      <td>0.0</td>\n",
              "      <td>0.0</td>\n",
              "      <td>0.0</td>\n",
              "      <td>0.0</td>\n",
              "      <td>0.0</td>\n",
              "      <td>0.0</td>\n",
              "      <td>0.0</td>\n",
              "      <td>0.0</td>\n",
              "      <td>0.0</td>\n",
              "      <td>0.0</td>\n",
              "      <td>0.0</td>\n",
              "      <td>0.0</td>\n",
              "      <td>0.0</td>\n",
              "      <td>-0.004083</td>\n",
              "      <td>-0.00471</td>\n",
              "      <td>-0.008799</td>\n",
              "      <td>-0.011591</td>\n",
              "      <td>-0.014759</td>\n",
              "      <td>-0.019285</td>\n",
              "      <td>-0.024672</td>\n",
              "      <td>-0.029071</td>\n",
              "      <td>...</td>\n",
              "      <td>-0.135433</td>\n",
              "      <td>-0.116480</td>\n",
              "      <td>-0.093951</td>\n",
              "      <td>-0.072577</td>\n",
              "      <td>-0.052364</td>\n",
              "      <td>-0.036383</td>\n",
              "      <td>-0.021503</td>\n",
              "      <td>-0.013019</td>\n",
              "      <td>-0.004494</td>\n",
              "      <td>-0.004083</td>\n",
              "      <td>0.0</td>\n",
              "      <td>0.0</td>\n",
              "      <td>0.0</td>\n",
              "      <td>0.0</td>\n",
              "      <td>0.0</td>\n",
              "      <td>0.0</td>\n",
              "      <td>-0.00579</td>\n",
              "      <td>-0.009054</td>\n",
              "      <td>-0.016005</td>\n",
              "      <td>-0.02212</td>\n",
              "      <td>-0.026846</td>\n",
              "      <td>-0.031845</td>\n",
              "      <td>-0.043748</td>\n",
              "      <td>-0.047283</td>\n",
              "      <td>-0.053139</td>\n",
              "      <td>-0.056623</td>\n",
              "      <td>-0.060338</td>\n",
              "      <td>-0.056295</td>\n",
              "      <td>-0.051367</td>\n",
              "      <td>-0.042632</td>\n",
              "      <td>-0.033171</td>\n",
              "      <td>-0.022463</td>\n",
              "      <td>-0.016069</td>\n",
              "      <td>-0.011432</td>\n",
              "      <td>-0.009007</td>\n",
              "      <td>-0.00577</td>\n",
              "      <td>0.0</td>\n",
              "      <td>0.0</td>\n",
              "      <td>0.0</td>\n",
              "      <td>0.0</td>\n",
              "    </tr>\n",
              "    <tr>\n",
              "      <th>4</th>\n",
              "      <td>0.0</td>\n",
              "      <td>0.0</td>\n",
              "      <td>0.0</td>\n",
              "      <td>0.0</td>\n",
              "      <td>0.0</td>\n",
              "      <td>0.0</td>\n",
              "      <td>0.0</td>\n",
              "      <td>0.0</td>\n",
              "      <td>0.0</td>\n",
              "      <td>0.0</td>\n",
              "      <td>0.0</td>\n",
              "      <td>0.0</td>\n",
              "      <td>-0.004418</td>\n",
              "      <td>-0.005755</td>\n",
              "      <td>-0.004083</td>\n",
              "      <td>-0.004083</td>\n",
              "      <td>0.0</td>\n",
              "      <td>0.0</td>\n",
              "      <td>0.0</td>\n",
              "      <td>0.0</td>\n",
              "      <td>0.0</td>\n",
              "      <td>0.0</td>\n",
              "      <td>0.0</td>\n",
              "      <td>0.0</td>\n",
              "      <td>0.0</td>\n",
              "      <td>0.0</td>\n",
              "      <td>0.0</td>\n",
              "      <td>0.0</td>\n",
              "      <td>0.0</td>\n",
              "      <td>0.0</td>\n",
              "      <td>0.0</td>\n",
              "      <td>0.0</td>\n",
              "      <td>-0.004083</td>\n",
              "      <td>-0.00471</td>\n",
              "      <td>-0.008799</td>\n",
              "      <td>-0.011591</td>\n",
              "      <td>-0.014759</td>\n",
              "      <td>-0.019285</td>\n",
              "      <td>-0.024672</td>\n",
              "      <td>-0.029071</td>\n",
              "      <td>...</td>\n",
              "      <td>5.496546</td>\n",
              "      <td>11.208794</td>\n",
              "      <td>2.225606</td>\n",
              "      <td>-0.072577</td>\n",
              "      <td>-0.052364</td>\n",
              "      <td>-0.036383</td>\n",
              "      <td>-0.021503</td>\n",
              "      <td>-0.013019</td>\n",
              "      <td>-0.004494</td>\n",
              "      <td>-0.004083</td>\n",
              "      <td>0.0</td>\n",
              "      <td>0.0</td>\n",
              "      <td>0.0</td>\n",
              "      <td>0.0</td>\n",
              "      <td>0.0</td>\n",
              "      <td>0.0</td>\n",
              "      <td>-0.00579</td>\n",
              "      <td>-0.009054</td>\n",
              "      <td>-0.016005</td>\n",
              "      <td>-0.02212</td>\n",
              "      <td>-0.026846</td>\n",
              "      <td>-0.031845</td>\n",
              "      <td>-0.043748</td>\n",
              "      <td>-0.047283</td>\n",
              "      <td>-0.053139</td>\n",
              "      <td>-0.056623</td>\n",
              "      <td>-0.060338</td>\n",
              "      <td>-0.056295</td>\n",
              "      <td>-0.051367</td>\n",
              "      <td>-0.042632</td>\n",
              "      <td>-0.033171</td>\n",
              "      <td>-0.022463</td>\n",
              "      <td>-0.016069</td>\n",
              "      <td>-0.011432</td>\n",
              "      <td>-0.009007</td>\n",
              "      <td>-0.00577</td>\n",
              "      <td>0.0</td>\n",
              "      <td>0.0</td>\n",
              "      <td>0.0</td>\n",
              "      <td>0.0</td>\n",
              "    </tr>\n",
              "  </tbody>\n",
              "</table>\n",
              "<p>5 rows × 784 columns</p>\n",
              "</div>"
            ],
            "text/plain": [
              "   0    1    2    3    4    5    ...       778      779  780  781  782  783\n",
              "0  0.0  0.0  0.0  0.0  0.0  0.0  ... -0.009007 -0.00577  0.0  0.0  0.0  0.0\n",
              "1  0.0  0.0  0.0  0.0  0.0  0.0  ... -0.009007 -0.00577  0.0  0.0  0.0  0.0\n",
              "2  0.0  0.0  0.0  0.0  0.0  0.0  ... -0.009007 -0.00577  0.0  0.0  0.0  0.0\n",
              "3  0.0  0.0  0.0  0.0  0.0  0.0  ... -0.009007 -0.00577  0.0  0.0  0.0  0.0\n",
              "4  0.0  0.0  0.0  0.0  0.0  0.0  ... -0.009007 -0.00577  0.0  0.0  0.0  0.0\n",
              "\n",
              "[5 rows x 784 columns]"
            ]
          },
          "metadata": {
            "tags": []
          },
          "execution_count": 10
        }
      ]
    },
    {
      "cell_type": "code",
      "metadata": {
        "id": "cGxQmgIhLE6w",
        "colab_type": "code",
        "colab": {
          "base_uri": "https://localhost:8080/",
          "height": 204
        },
        "outputId": "08159094-ea60-49b1-d864-f80b5b9c5564"
      },
      "source": [
        "b_train.head()"
      ],
      "execution_count": 11,
      "outputs": [
        {
          "output_type": "execute_result",
          "data": {
            "text/html": [
              "<div>\n",
              "<style scoped>\n",
              "    .dataframe tbody tr th:only-of-type {\n",
              "        vertical-align: middle;\n",
              "    }\n",
              "\n",
              "    .dataframe tbody tr th {\n",
              "        vertical-align: top;\n",
              "    }\n",
              "\n",
              "    .dataframe thead th {\n",
              "        text-align: right;\n",
              "    }\n",
              "</style>\n",
              "<table border=\"1\" class=\"dataframe\">\n",
              "  <thead>\n",
              "    <tr style=\"text-align: right;\">\n",
              "      <th></th>\n",
              "      <th>0</th>\n",
              "    </tr>\n",
              "  </thead>\n",
              "  <tbody>\n",
              "    <tr>\n",
              "      <th>0</th>\n",
              "      <td>5</td>\n",
              "    </tr>\n",
              "    <tr>\n",
              "      <th>1</th>\n",
              "      <td>0</td>\n",
              "    </tr>\n",
              "    <tr>\n",
              "      <th>2</th>\n",
              "      <td>4</td>\n",
              "    </tr>\n",
              "    <tr>\n",
              "      <th>3</th>\n",
              "      <td>1</td>\n",
              "    </tr>\n",
              "    <tr>\n",
              "      <th>4</th>\n",
              "      <td>9</td>\n",
              "    </tr>\n",
              "  </tbody>\n",
              "</table>\n",
              "</div>"
            ],
            "text/plain": [
              "   0\n",
              "0  5\n",
              "1  0\n",
              "2  4\n",
              "3  1\n",
              "4  9"
            ]
          },
          "metadata": {
            "tags": []
          },
          "execution_count": 11
        }
      ]
    },
    {
      "cell_type": "code",
      "metadata": {
        "id": "tXCD82jTL_qd",
        "colab_type": "code",
        "colab": {
          "base_uri": "https://localhost:8080/",
          "height": 253
        },
        "outputId": "ebf21200-156a-4451-cee9-266deaf929b6"
      },
      "source": [
        "A_train.head()"
      ],
      "execution_count": 12,
      "outputs": [
        {
          "output_type": "execute_result",
          "data": {
            "text/html": [
              "<div>\n",
              "<style scoped>\n",
              "    .dataframe tbody tr th:only-of-type {\n",
              "        vertical-align: middle;\n",
              "    }\n",
              "\n",
              "    .dataframe tbody tr th {\n",
              "        vertical-align: top;\n",
              "    }\n",
              "\n",
              "    .dataframe thead th {\n",
              "        text-align: right;\n",
              "    }\n",
              "</style>\n",
              "<table border=\"1\" class=\"dataframe\">\n",
              "  <thead>\n",
              "    <tr style=\"text-align: right;\">\n",
              "      <th></th>\n",
              "      <th>0</th>\n",
              "      <th>1</th>\n",
              "      <th>2</th>\n",
              "      <th>3</th>\n",
              "      <th>4</th>\n",
              "      <th>5</th>\n",
              "      <th>6</th>\n",
              "      <th>7</th>\n",
              "      <th>8</th>\n",
              "      <th>9</th>\n",
              "      <th>10</th>\n",
              "      <th>11</th>\n",
              "      <th>12</th>\n",
              "      <th>13</th>\n",
              "      <th>14</th>\n",
              "      <th>15</th>\n",
              "      <th>16</th>\n",
              "      <th>17</th>\n",
              "      <th>18</th>\n",
              "      <th>19</th>\n",
              "      <th>20</th>\n",
              "      <th>21</th>\n",
              "      <th>22</th>\n",
              "      <th>23</th>\n",
              "      <th>24</th>\n",
              "      <th>25</th>\n",
              "      <th>26</th>\n",
              "      <th>27</th>\n",
              "      <th>28</th>\n",
              "      <th>29</th>\n",
              "      <th>30</th>\n",
              "      <th>31</th>\n",
              "      <th>32</th>\n",
              "      <th>33</th>\n",
              "      <th>34</th>\n",
              "      <th>35</th>\n",
              "      <th>36</th>\n",
              "      <th>37</th>\n",
              "      <th>38</th>\n",
              "      <th>39</th>\n",
              "      <th>...</th>\n",
              "      <th>744</th>\n",
              "      <th>745</th>\n",
              "      <th>746</th>\n",
              "      <th>747</th>\n",
              "      <th>748</th>\n",
              "      <th>749</th>\n",
              "      <th>750</th>\n",
              "      <th>751</th>\n",
              "      <th>752</th>\n",
              "      <th>753</th>\n",
              "      <th>754</th>\n",
              "      <th>755</th>\n",
              "      <th>756</th>\n",
              "      <th>757</th>\n",
              "      <th>758</th>\n",
              "      <th>759</th>\n",
              "      <th>760</th>\n",
              "      <th>761</th>\n",
              "      <th>762</th>\n",
              "      <th>763</th>\n",
              "      <th>764</th>\n",
              "      <th>765</th>\n",
              "      <th>766</th>\n",
              "      <th>767</th>\n",
              "      <th>768</th>\n",
              "      <th>769</th>\n",
              "      <th>770</th>\n",
              "      <th>771</th>\n",
              "      <th>772</th>\n",
              "      <th>773</th>\n",
              "      <th>774</th>\n",
              "      <th>775</th>\n",
              "      <th>776</th>\n",
              "      <th>777</th>\n",
              "      <th>778</th>\n",
              "      <th>779</th>\n",
              "      <th>780</th>\n",
              "      <th>781</th>\n",
              "      <th>782</th>\n",
              "      <th>783</th>\n",
              "    </tr>\n",
              "  </thead>\n",
              "  <tbody>\n",
              "    <tr>\n",
              "      <th>0</th>\n",
              "      <td>0.0</td>\n",
              "      <td>0.0</td>\n",
              "      <td>0.0</td>\n",
              "      <td>0.0</td>\n",
              "      <td>0.0</td>\n",
              "      <td>0.0</td>\n",
              "      <td>0.0</td>\n",
              "      <td>0.0</td>\n",
              "      <td>0.0</td>\n",
              "      <td>0.0</td>\n",
              "      <td>0.0</td>\n",
              "      <td>0.0</td>\n",
              "      <td>-0.004418</td>\n",
              "      <td>-0.005755</td>\n",
              "      <td>-0.004083</td>\n",
              "      <td>-0.004083</td>\n",
              "      <td>0.0</td>\n",
              "      <td>0.0</td>\n",
              "      <td>0.0</td>\n",
              "      <td>0.0</td>\n",
              "      <td>0.0</td>\n",
              "      <td>0.0</td>\n",
              "      <td>0.0</td>\n",
              "      <td>0.0</td>\n",
              "      <td>0.0</td>\n",
              "      <td>0.0</td>\n",
              "      <td>0.0</td>\n",
              "      <td>0.0</td>\n",
              "      <td>0.0</td>\n",
              "      <td>0.0</td>\n",
              "      <td>0.0</td>\n",
              "      <td>0.0</td>\n",
              "      <td>-0.004083</td>\n",
              "      <td>-0.00471</td>\n",
              "      <td>-0.008799</td>\n",
              "      <td>-0.011591</td>\n",
              "      <td>-0.014759</td>\n",
              "      <td>-0.019285</td>\n",
              "      <td>-0.024672</td>\n",
              "      <td>-0.029071</td>\n",
              "      <td>...</td>\n",
              "      <td>-0.135433</td>\n",
              "      <td>-0.116480</td>\n",
              "      <td>-0.093951</td>\n",
              "      <td>-0.072577</td>\n",
              "      <td>-0.052364</td>\n",
              "      <td>-0.036383</td>\n",
              "      <td>-0.021503</td>\n",
              "      <td>-0.013019</td>\n",
              "      <td>-0.004494</td>\n",
              "      <td>-0.004083</td>\n",
              "      <td>0.0</td>\n",
              "      <td>0.0</td>\n",
              "      <td>0.0</td>\n",
              "      <td>0.0</td>\n",
              "      <td>0.0</td>\n",
              "      <td>0.0</td>\n",
              "      <td>-0.00579</td>\n",
              "      <td>-0.009054</td>\n",
              "      <td>-0.016005</td>\n",
              "      <td>-0.02212</td>\n",
              "      <td>-0.026846</td>\n",
              "      <td>-0.031845</td>\n",
              "      <td>-0.043748</td>\n",
              "      <td>-0.047283</td>\n",
              "      <td>-0.053139</td>\n",
              "      <td>-0.056623</td>\n",
              "      <td>-0.060338</td>\n",
              "      <td>-0.056295</td>\n",
              "      <td>-0.051367</td>\n",
              "      <td>-0.042632</td>\n",
              "      <td>-0.033171</td>\n",
              "      <td>-0.022463</td>\n",
              "      <td>-0.016069</td>\n",
              "      <td>-0.011432</td>\n",
              "      <td>-0.009007</td>\n",
              "      <td>-0.00577</td>\n",
              "      <td>0.0</td>\n",
              "      <td>0.0</td>\n",
              "      <td>0.0</td>\n",
              "      <td>0.0</td>\n",
              "    </tr>\n",
              "    <tr>\n",
              "      <th>1</th>\n",
              "      <td>0.0</td>\n",
              "      <td>0.0</td>\n",
              "      <td>0.0</td>\n",
              "      <td>0.0</td>\n",
              "      <td>0.0</td>\n",
              "      <td>0.0</td>\n",
              "      <td>0.0</td>\n",
              "      <td>0.0</td>\n",
              "      <td>0.0</td>\n",
              "      <td>0.0</td>\n",
              "      <td>0.0</td>\n",
              "      <td>0.0</td>\n",
              "      <td>-0.004418</td>\n",
              "      <td>-0.005755</td>\n",
              "      <td>-0.004083</td>\n",
              "      <td>-0.004083</td>\n",
              "      <td>0.0</td>\n",
              "      <td>0.0</td>\n",
              "      <td>0.0</td>\n",
              "      <td>0.0</td>\n",
              "      <td>0.0</td>\n",
              "      <td>0.0</td>\n",
              "      <td>0.0</td>\n",
              "      <td>0.0</td>\n",
              "      <td>0.0</td>\n",
              "      <td>0.0</td>\n",
              "      <td>0.0</td>\n",
              "      <td>0.0</td>\n",
              "      <td>0.0</td>\n",
              "      <td>0.0</td>\n",
              "      <td>0.0</td>\n",
              "      <td>0.0</td>\n",
              "      <td>-0.004083</td>\n",
              "      <td>-0.00471</td>\n",
              "      <td>-0.008799</td>\n",
              "      <td>-0.011591</td>\n",
              "      <td>-0.014759</td>\n",
              "      <td>-0.019285</td>\n",
              "      <td>-0.024672</td>\n",
              "      <td>-0.029071</td>\n",
              "      <td>...</td>\n",
              "      <td>-0.135433</td>\n",
              "      <td>-0.116480</td>\n",
              "      <td>-0.093951</td>\n",
              "      <td>-0.072577</td>\n",
              "      <td>-0.052364</td>\n",
              "      <td>-0.036383</td>\n",
              "      <td>-0.021503</td>\n",
              "      <td>-0.013019</td>\n",
              "      <td>-0.004494</td>\n",
              "      <td>-0.004083</td>\n",
              "      <td>0.0</td>\n",
              "      <td>0.0</td>\n",
              "      <td>0.0</td>\n",
              "      <td>0.0</td>\n",
              "      <td>0.0</td>\n",
              "      <td>0.0</td>\n",
              "      <td>-0.00579</td>\n",
              "      <td>-0.009054</td>\n",
              "      <td>-0.016005</td>\n",
              "      <td>-0.02212</td>\n",
              "      <td>-0.026846</td>\n",
              "      <td>-0.031845</td>\n",
              "      <td>-0.043748</td>\n",
              "      <td>-0.047283</td>\n",
              "      <td>-0.053139</td>\n",
              "      <td>-0.056623</td>\n",
              "      <td>-0.060338</td>\n",
              "      <td>-0.056295</td>\n",
              "      <td>-0.051367</td>\n",
              "      <td>-0.042632</td>\n",
              "      <td>-0.033171</td>\n",
              "      <td>-0.022463</td>\n",
              "      <td>-0.016069</td>\n",
              "      <td>-0.011432</td>\n",
              "      <td>-0.009007</td>\n",
              "      <td>-0.00577</td>\n",
              "      <td>0.0</td>\n",
              "      <td>0.0</td>\n",
              "      <td>0.0</td>\n",
              "      <td>0.0</td>\n",
              "    </tr>\n",
              "    <tr>\n",
              "      <th>2</th>\n",
              "      <td>0.0</td>\n",
              "      <td>0.0</td>\n",
              "      <td>0.0</td>\n",
              "      <td>0.0</td>\n",
              "      <td>0.0</td>\n",
              "      <td>0.0</td>\n",
              "      <td>0.0</td>\n",
              "      <td>0.0</td>\n",
              "      <td>0.0</td>\n",
              "      <td>0.0</td>\n",
              "      <td>0.0</td>\n",
              "      <td>0.0</td>\n",
              "      <td>-0.004418</td>\n",
              "      <td>-0.005755</td>\n",
              "      <td>-0.004083</td>\n",
              "      <td>-0.004083</td>\n",
              "      <td>0.0</td>\n",
              "      <td>0.0</td>\n",
              "      <td>0.0</td>\n",
              "      <td>0.0</td>\n",
              "      <td>0.0</td>\n",
              "      <td>0.0</td>\n",
              "      <td>0.0</td>\n",
              "      <td>0.0</td>\n",
              "      <td>0.0</td>\n",
              "      <td>0.0</td>\n",
              "      <td>0.0</td>\n",
              "      <td>0.0</td>\n",
              "      <td>0.0</td>\n",
              "      <td>0.0</td>\n",
              "      <td>0.0</td>\n",
              "      <td>0.0</td>\n",
              "      <td>-0.004083</td>\n",
              "      <td>-0.00471</td>\n",
              "      <td>-0.008799</td>\n",
              "      <td>-0.011591</td>\n",
              "      <td>-0.014759</td>\n",
              "      <td>-0.019285</td>\n",
              "      <td>-0.024672</td>\n",
              "      <td>-0.029071</td>\n",
              "      <td>...</td>\n",
              "      <td>-0.135433</td>\n",
              "      <td>-0.116480</td>\n",
              "      <td>-0.093951</td>\n",
              "      <td>-0.072577</td>\n",
              "      <td>-0.052364</td>\n",
              "      <td>-0.036383</td>\n",
              "      <td>-0.021503</td>\n",
              "      <td>-0.013019</td>\n",
              "      <td>-0.004494</td>\n",
              "      <td>-0.004083</td>\n",
              "      <td>0.0</td>\n",
              "      <td>0.0</td>\n",
              "      <td>0.0</td>\n",
              "      <td>0.0</td>\n",
              "      <td>0.0</td>\n",
              "      <td>0.0</td>\n",
              "      <td>-0.00579</td>\n",
              "      <td>-0.009054</td>\n",
              "      <td>-0.016005</td>\n",
              "      <td>-0.02212</td>\n",
              "      <td>-0.026846</td>\n",
              "      <td>-0.031845</td>\n",
              "      <td>-0.043748</td>\n",
              "      <td>-0.047283</td>\n",
              "      <td>-0.053139</td>\n",
              "      <td>-0.056623</td>\n",
              "      <td>-0.060338</td>\n",
              "      <td>-0.056295</td>\n",
              "      <td>-0.051367</td>\n",
              "      <td>-0.042632</td>\n",
              "      <td>-0.033171</td>\n",
              "      <td>-0.022463</td>\n",
              "      <td>-0.016069</td>\n",
              "      <td>-0.011432</td>\n",
              "      <td>-0.009007</td>\n",
              "      <td>-0.00577</td>\n",
              "      <td>0.0</td>\n",
              "      <td>0.0</td>\n",
              "      <td>0.0</td>\n",
              "      <td>0.0</td>\n",
              "    </tr>\n",
              "    <tr>\n",
              "      <th>3</th>\n",
              "      <td>0.0</td>\n",
              "      <td>0.0</td>\n",
              "      <td>0.0</td>\n",
              "      <td>0.0</td>\n",
              "      <td>0.0</td>\n",
              "      <td>0.0</td>\n",
              "      <td>0.0</td>\n",
              "      <td>0.0</td>\n",
              "      <td>0.0</td>\n",
              "      <td>0.0</td>\n",
              "      <td>0.0</td>\n",
              "      <td>0.0</td>\n",
              "      <td>-0.004418</td>\n",
              "      <td>-0.005755</td>\n",
              "      <td>-0.004083</td>\n",
              "      <td>-0.004083</td>\n",
              "      <td>0.0</td>\n",
              "      <td>0.0</td>\n",
              "      <td>0.0</td>\n",
              "      <td>0.0</td>\n",
              "      <td>0.0</td>\n",
              "      <td>0.0</td>\n",
              "      <td>0.0</td>\n",
              "      <td>0.0</td>\n",
              "      <td>0.0</td>\n",
              "      <td>0.0</td>\n",
              "      <td>0.0</td>\n",
              "      <td>0.0</td>\n",
              "      <td>0.0</td>\n",
              "      <td>0.0</td>\n",
              "      <td>0.0</td>\n",
              "      <td>0.0</td>\n",
              "      <td>-0.004083</td>\n",
              "      <td>-0.00471</td>\n",
              "      <td>-0.008799</td>\n",
              "      <td>-0.011591</td>\n",
              "      <td>-0.014759</td>\n",
              "      <td>-0.019285</td>\n",
              "      <td>-0.024672</td>\n",
              "      <td>-0.029071</td>\n",
              "      <td>...</td>\n",
              "      <td>-0.135433</td>\n",
              "      <td>-0.116480</td>\n",
              "      <td>-0.093951</td>\n",
              "      <td>-0.072577</td>\n",
              "      <td>-0.052364</td>\n",
              "      <td>-0.036383</td>\n",
              "      <td>-0.021503</td>\n",
              "      <td>-0.013019</td>\n",
              "      <td>-0.004494</td>\n",
              "      <td>-0.004083</td>\n",
              "      <td>0.0</td>\n",
              "      <td>0.0</td>\n",
              "      <td>0.0</td>\n",
              "      <td>0.0</td>\n",
              "      <td>0.0</td>\n",
              "      <td>0.0</td>\n",
              "      <td>-0.00579</td>\n",
              "      <td>-0.009054</td>\n",
              "      <td>-0.016005</td>\n",
              "      <td>-0.02212</td>\n",
              "      <td>-0.026846</td>\n",
              "      <td>-0.031845</td>\n",
              "      <td>-0.043748</td>\n",
              "      <td>-0.047283</td>\n",
              "      <td>-0.053139</td>\n",
              "      <td>-0.056623</td>\n",
              "      <td>-0.060338</td>\n",
              "      <td>-0.056295</td>\n",
              "      <td>-0.051367</td>\n",
              "      <td>-0.042632</td>\n",
              "      <td>-0.033171</td>\n",
              "      <td>-0.022463</td>\n",
              "      <td>-0.016069</td>\n",
              "      <td>-0.011432</td>\n",
              "      <td>-0.009007</td>\n",
              "      <td>-0.00577</td>\n",
              "      <td>0.0</td>\n",
              "      <td>0.0</td>\n",
              "      <td>0.0</td>\n",
              "      <td>0.0</td>\n",
              "    </tr>\n",
              "    <tr>\n",
              "      <th>4</th>\n",
              "      <td>0.0</td>\n",
              "      <td>0.0</td>\n",
              "      <td>0.0</td>\n",
              "      <td>0.0</td>\n",
              "      <td>0.0</td>\n",
              "      <td>0.0</td>\n",
              "      <td>0.0</td>\n",
              "      <td>0.0</td>\n",
              "      <td>0.0</td>\n",
              "      <td>0.0</td>\n",
              "      <td>0.0</td>\n",
              "      <td>0.0</td>\n",
              "      <td>-0.004418</td>\n",
              "      <td>-0.005755</td>\n",
              "      <td>-0.004083</td>\n",
              "      <td>-0.004083</td>\n",
              "      <td>0.0</td>\n",
              "      <td>0.0</td>\n",
              "      <td>0.0</td>\n",
              "      <td>0.0</td>\n",
              "      <td>0.0</td>\n",
              "      <td>0.0</td>\n",
              "      <td>0.0</td>\n",
              "      <td>0.0</td>\n",
              "      <td>0.0</td>\n",
              "      <td>0.0</td>\n",
              "      <td>0.0</td>\n",
              "      <td>0.0</td>\n",
              "      <td>0.0</td>\n",
              "      <td>0.0</td>\n",
              "      <td>0.0</td>\n",
              "      <td>0.0</td>\n",
              "      <td>-0.004083</td>\n",
              "      <td>-0.00471</td>\n",
              "      <td>-0.008799</td>\n",
              "      <td>-0.011591</td>\n",
              "      <td>-0.014759</td>\n",
              "      <td>-0.019285</td>\n",
              "      <td>-0.024672</td>\n",
              "      <td>-0.029071</td>\n",
              "      <td>...</td>\n",
              "      <td>5.496546</td>\n",
              "      <td>11.208794</td>\n",
              "      <td>2.225606</td>\n",
              "      <td>-0.072577</td>\n",
              "      <td>-0.052364</td>\n",
              "      <td>-0.036383</td>\n",
              "      <td>-0.021503</td>\n",
              "      <td>-0.013019</td>\n",
              "      <td>-0.004494</td>\n",
              "      <td>-0.004083</td>\n",
              "      <td>0.0</td>\n",
              "      <td>0.0</td>\n",
              "      <td>0.0</td>\n",
              "      <td>0.0</td>\n",
              "      <td>0.0</td>\n",
              "      <td>0.0</td>\n",
              "      <td>-0.00579</td>\n",
              "      <td>-0.009054</td>\n",
              "      <td>-0.016005</td>\n",
              "      <td>-0.02212</td>\n",
              "      <td>-0.026846</td>\n",
              "      <td>-0.031845</td>\n",
              "      <td>-0.043748</td>\n",
              "      <td>-0.047283</td>\n",
              "      <td>-0.053139</td>\n",
              "      <td>-0.056623</td>\n",
              "      <td>-0.060338</td>\n",
              "      <td>-0.056295</td>\n",
              "      <td>-0.051367</td>\n",
              "      <td>-0.042632</td>\n",
              "      <td>-0.033171</td>\n",
              "      <td>-0.022463</td>\n",
              "      <td>-0.016069</td>\n",
              "      <td>-0.011432</td>\n",
              "      <td>-0.009007</td>\n",
              "      <td>-0.00577</td>\n",
              "      <td>0.0</td>\n",
              "      <td>0.0</td>\n",
              "      <td>0.0</td>\n",
              "      <td>0.0</td>\n",
              "    </tr>\n",
              "  </tbody>\n",
              "</table>\n",
              "<p>5 rows × 784 columns</p>\n",
              "</div>"
            ],
            "text/plain": [
              "   0    1    2    3    4    5    ...       778      779  780  781  782  783\n",
              "0  0.0  0.0  0.0  0.0  0.0  0.0  ... -0.009007 -0.00577  0.0  0.0  0.0  0.0\n",
              "1  0.0  0.0  0.0  0.0  0.0  0.0  ... -0.009007 -0.00577  0.0  0.0  0.0  0.0\n",
              "2  0.0  0.0  0.0  0.0  0.0  0.0  ... -0.009007 -0.00577  0.0  0.0  0.0  0.0\n",
              "3  0.0  0.0  0.0  0.0  0.0  0.0  ... -0.009007 -0.00577  0.0  0.0  0.0  0.0\n",
              "4  0.0  0.0  0.0  0.0  0.0  0.0  ... -0.009007 -0.00577  0.0  0.0  0.0  0.0\n",
              "\n",
              "[5 rows x 784 columns]"
            ]
          },
          "metadata": {
            "tags": []
          },
          "execution_count": 12
        }
      ]
    },
    {
      "cell_type": "markdown",
      "metadata": {
        "id": "rTS3qOBS1Qe6",
        "colab_type": "text"
      },
      "source": [
        "#Random Forest Classifier"
      ]
    },
    {
      "cell_type": "code",
      "metadata": {
        "id": "KzsN_1oUF2IU",
        "colab_type": "code",
        "colab": {
          "base_uri": "https://localhost:8080/",
          "height": 119
        },
        "outputId": "017de617-1908-4544-d3a3-679f1c97265d"
      },
      "source": [
        "%%time\n",
        "#Libraries to build the model using Sklearn:\n",
        "from sklearn.ensemble import RandomForestClassifier as rs\n",
        "classifier_rs = rs(n_estimators = 10, criterion = 'entropy', random_state = 0)\n",
        "\n",
        "#Fitting the model\n",
        "classifier_rs.fit(A_train,b_train)    "
      ],
      "execution_count": 13,
      "outputs": [
        {
          "output_type": "stream",
          "text": [
            "/usr/local/lib/python3.6/dist-packages/ipykernel_launcher.py:5: DataConversionWarning:\n",
            "\n",
            "A column-vector y was passed when a 1d array was expected. Please change the shape of y to (n_samples,), for example using ravel().\n",
            "\n"
          ],
          "name": "stderr"
        },
        {
          "output_type": "stream",
          "text": [
            "CPU times: user 6.55 s, sys: 15.7 ms, total: 6.57 s\n",
            "Wall time: 6.75 s\n"
          ],
          "name": "stdout"
        }
      ]
    },
    {
      "cell_type": "markdown",
      "metadata": {
        "id": "rXEbdm5mTOnf",
        "colab_type": "text"
      },
      "source": [
        "After normalization the time of processing the model decreased by 6 times from 43 second to 7 seconds"
      ]
    },
    {
      "cell_type": "code",
      "metadata": {
        "id": "JauSjl4iaOez",
        "colab_type": "code",
        "colab": {
          "base_uri": "https://localhost:8080/",
          "height": 136
        },
        "outputId": "78806901-6831-4b77-d2b2-de12fef5d942"
      },
      "source": [
        "#Predicting the values and comparing results with the actual values\n",
        "y_pred_rs = classifier_rs.predict(X_test)\n",
        "print(np.concatenate((y_pred_rs.reshape(len(y_pred_rs),1), y_test.reshape(len(y_test),1)),1))"
      ],
      "execution_count": 14,
      "outputs": [
        {
          "output_type": "stream",
          "text": [
            "[[7 7]\n",
            " [2 2]\n",
            " [1 1]\n",
            " ...\n",
            " [4 4]\n",
            " [5 5]\n",
            " [6 6]]\n"
          ],
          "name": "stdout"
        }
      ]
    },
    {
      "cell_type": "code",
      "metadata": {
        "id": "MpNVIjT_UKGu",
        "colab_type": "code",
        "colab": {
          "base_uri": "https://localhost:8080/",
          "height": 306
        },
        "outputId": "da622f22-9363-4e79-8802-ff4b6c7bd38c"
      },
      "source": [
        "#Classification Report of Random Forest Classifier\n",
        "print(classification_report(y_test, y_pred_rs))"
      ],
      "execution_count": 15,
      "outputs": [
        {
          "output_type": "stream",
          "text": [
            "              precision    recall  f1-score   support\n",
            "\n",
            "           0       0.95      0.99      0.97       980\n",
            "           1       0.98      0.99      0.98      1135\n",
            "           2       0.94      0.96      0.95      1032\n",
            "           3       0.93      0.94      0.94      1010\n",
            "           4       0.95      0.95      0.95       982\n",
            "           5       0.94      0.93      0.93       892\n",
            "           6       0.96      0.96      0.96       958\n",
            "           7       0.96      0.94      0.95      1028\n",
            "           8       0.95      0.92      0.94       974\n",
            "           9       0.95      0.93      0.94      1009\n",
            "\n",
            "    accuracy                           0.95     10000\n",
            "   macro avg       0.95      0.95      0.95     10000\n",
            "weighted avg       0.95      0.95      0.95     10000\n",
            "\n"
          ],
          "name": "stdout"
        }
      ]
    },
    {
      "cell_type": "markdown",
      "metadata": {
        "id": "ttw9eobcWJeb",
        "colab_type": "text"
      },
      "source": [
        "#KNN: K-Nearest Neighbour"
      ]
    },
    {
      "cell_type": "code",
      "metadata": {
        "id": "uU8xtTZUaFEo",
        "colab_type": "code",
        "colab": {
          "base_uri": "https://localhost:8080/",
          "height": 119
        },
        "outputId": "5d789c4e-e175-46c0-b072-a0cffe9d393a"
      },
      "source": [
        "%%time\n",
        "#Importing and fitting the model\n",
        "from sklearn.neighbors import KNeighborsClassifier as KNN\n",
        "classifier_knn = KNN(n_neighbors= 5, metric='minkowski', p = 2)\n",
        "classifier_knn.fit(A_train, b_train)"
      ],
      "execution_count": 17,
      "outputs": [
        {
          "output_type": "stream",
          "text": [
            "/usr/local/lib/python3.6/dist-packages/ipykernel_launcher.py:3: DataConversionWarning:\n",
            "\n",
            "A column-vector y was passed when a 1d array was expected. Please change the shape of y to (n_samples, ), for example using ravel().\n",
            "\n"
          ],
          "name": "stderr"
        },
        {
          "output_type": "stream",
          "text": [
            "CPU times: user 15.1 s, sys: 22.8 ms, total: 15.1 s\n",
            "Wall time: 15.1 s\n"
          ],
          "name": "stdout"
        }
      ]
    },
    {
      "cell_type": "code",
      "metadata": {
        "id": "U7nJEwRw198m",
        "colab_type": "code",
        "colab": {
          "base_uri": "https://localhost:8080/",
          "height": 170
        },
        "outputId": "6b66f772-cf17-4fac-c980-6ad1b7a0e87e"
      },
      "source": [
        "%%time\n",
        "#Predicting the values and comparing results with the actual values\n",
        "y_pred_knn= classifier_knn.predict(X_test)\n",
        "print(np.concatenate((y_pred_knn.reshape(len(y_pred_knn),1), y_test.reshape(len(y_test),1)),1))"
      ],
      "execution_count": 18,
      "outputs": [
        {
          "output_type": "stream",
          "text": [
            "[[7 7]\n",
            " [2 2]\n",
            " [1 1]\n",
            " ...\n",
            " [4 4]\n",
            " [5 5]\n",
            " [6 6]]\n",
            "CPU times: user 15min 10s, sys: 71.3 ms, total: 15min 11s\n",
            "Wall time: 15min 11s\n"
          ],
          "name": "stdout"
        }
      ]
    },
    {
      "cell_type": "code",
      "metadata": {
        "id": "XuksLZSE1WXd",
        "colab_type": "code",
        "colab": {
          "base_uri": "https://localhost:8080/",
          "height": 306
        },
        "outputId": "35a52a33-6905-4603-d276-41845b540edd"
      },
      "source": [
        "#Classification Report of Random Forest Classifier\n",
        "print(classification_report(y_test, y_pred_knn))"
      ],
      "execution_count": 19,
      "outputs": [
        {
          "output_type": "stream",
          "text": [
            "              precision    recall  f1-score   support\n",
            "\n",
            "           0       0.95      0.98      0.97       980\n",
            "           1       0.96      0.99      0.97      1135\n",
            "           2       0.96      0.93      0.94      1032\n",
            "           3       0.92      0.95      0.94      1010\n",
            "           4       0.94      0.94      0.94       982\n",
            "           5       0.93      0.92      0.93       892\n",
            "           6       0.96      0.97      0.97       958\n",
            "           7       0.94      0.92      0.93      1028\n",
            "           8       0.96      0.90      0.93       974\n",
            "           9       0.92      0.92      0.92      1009\n",
            "\n",
            "    accuracy                           0.94     10000\n",
            "   macro avg       0.94      0.94      0.94     10000\n",
            "weighted avg       0.94      0.94      0.94     10000\n",
            "\n"
          ],
          "name": "stdout"
        }
      ]
    },
    {
      "cell_type": "markdown",
      "metadata": {
        "id": "id8qpwaU1kEE",
        "colab_type": "text"
      },
      "source": [
        "#Support Vector Machine"
      ]
    },
    {
      "cell_type": "code",
      "metadata": {
        "id": "I5ZIPfjVhI9J",
        "colab_type": "code",
        "colab": {
          "base_uri": "https://localhost:8080/",
          "height": 119
        },
        "outputId": "330c58f6-482b-40b9-ab7e-2ab68a8d3571"
      },
      "source": [
        "%%time\n",
        "#Importing model and fitting the model\n",
        "from sklearn.svm import SVC\n",
        "classifier_svm = SVC(kernel = 'rbf', random_state = 0)\n",
        "classifier_svc = classifier_svm.fit(A_train, b_train)"
      ],
      "execution_count": 23,
      "outputs": [
        {
          "output_type": "stream",
          "text": [
            "/usr/local/lib/python3.6/dist-packages/sklearn/utils/validation.py:760: DataConversionWarning:\n",
            "\n",
            "A column-vector y was passed when a 1d array was expected. Please change the shape of y to (n_samples, ), for example using ravel().\n",
            "\n"
          ],
          "name": "stderr"
        },
        {
          "output_type": "stream",
          "text": [
            "CPU times: user 15min 19s, sys: 251 ms, total: 15min 19s\n",
            "Wall time: 15min 19s\n"
          ],
          "name": "stdout"
        }
      ]
    },
    {
      "cell_type": "code",
      "metadata": {
        "id": "VvrQMP40hKst",
        "colab_type": "code",
        "colab": {
          "base_uri": "https://localhost:8080/",
          "height": 170
        },
        "outputId": "70a6641a-4996-4b0d-c15c-c7149e55a054"
      },
      "source": [
        "%%time\n",
        "#Predicting the values and comparing results with the actual values\n",
        "y_pred_svc = classifier_svc.predict(X_test)\n",
        "print(np.concatenate((y_pred_svc.reshape(len(y_pred_svc),1), y_test.reshape(len(y_test),1)),1))"
      ],
      "execution_count": 24,
      "outputs": [
        {
          "output_type": "stream",
          "text": [
            "[[7 7]\n",
            " [2 2]\n",
            " [1 1]\n",
            " ...\n",
            " [4 4]\n",
            " [5 5]\n",
            " [6 6]]\n",
            "CPU times: user 3min 29s, sys: 17.8 ms, total: 3min 29s\n",
            "Wall time: 3min 29s\n"
          ],
          "name": "stdout"
        }
      ]
    },
    {
      "cell_type": "code",
      "metadata": {
        "id": "M06Kkglyv8nn",
        "colab_type": "code",
        "colab": {
          "base_uri": "https://localhost:8080/",
          "height": 306
        },
        "outputId": "04a439f5-0c5e-4ea2-9e6e-0b1c4ea20d73"
      },
      "source": [
        "#Classification Report of Random Forest Classifier\n",
        "print(classification_report(y_test, y_pred_svc))"
      ],
      "execution_count": 25,
      "outputs": [
        {
          "output_type": "stream",
          "text": [
            "              precision    recall  f1-score   support\n",
            "\n",
            "           0       0.98      0.99      0.98       980\n",
            "           1       0.99      0.99      0.99      1135\n",
            "           2       0.96      0.97      0.96      1032\n",
            "           3       0.97      0.97      0.97      1010\n",
            "           4       0.97      0.96      0.97       982\n",
            "           5       0.96      0.96      0.96       892\n",
            "           6       0.98      0.97      0.98       958\n",
            "           7       0.93      0.96      0.94      1028\n",
            "           8       0.96      0.95      0.96       974\n",
            "           9       0.97      0.94      0.95      1009\n",
            "\n",
            "    accuracy                           0.97     10000\n",
            "   macro avg       0.97      0.97      0.97     10000\n",
            "weighted avg       0.97      0.97      0.97     10000\n",
            "\n"
          ],
          "name": "stdout"
        }
      ]
    },
    {
      "cell_type": "markdown",
      "metadata": {
        "id": "mtjltx5-sQVB",
        "colab_type": "text"
      },
      "source": [
        "## After PCA: Principle Component Analysis"
      ]
    },
    {
      "cell_type": "code",
      "metadata": {
        "id": "NNzJUUN_sPtb",
        "colab_type": "code",
        "colab": {
          "base_uri": "https://localhost:8080/",
          "height": 623
        },
        "outputId": "49921ee6-e3f7-48e2-9e9d-0f92e0d4d192"
      },
      "source": [
        "#Importing PCA library\n",
        "from sklearn.decomposition import PCA as sklearnPCA\n",
        "\n",
        "#If n_components is not set then all components are stored \n",
        "sklearn_pca = sklearnPCA().fit(A_train)\n",
        "A_train_pca = sklearn_pca.transform(A_train)\n",
        "X_test_pca = sklearn_pca.transform(X_test)\n",
        "\n",
        "#Percentage of variance explained by each of the selected components.\n",
        "#If n_components is not set then all components are stored and the sum of the ratios is equal to 1.0.\n",
        "var_per = sklearn_pca.explained_variance_ratio_\n",
        "cum_var_per = sklearn_pca.explained_variance_ratio_.cumsum()\n",
        "\n",
        "plt.figure(figsize=(30,10))\n",
        "ind = np.arange(len(var_per)) \n",
        "plt.bar(ind,var_per)\n",
        "plt.xlabel('n_components')\n",
        "plt.ylabel('Variance')"
      ],
      "execution_count": 26,
      "outputs": [
        {
          "output_type": "execute_result",
          "data": {
            "text/plain": [
              "Text(0, 0.5, 'Variance')"
            ]
          },
          "metadata": {
            "tags": []
          },
          "execution_count": 26
        },
        {
          "output_type": "display_data",
          "data": {
            "image/png": "[encoded data removed]",
            "text/plain": [
              "<Figure size 2160x720 with 1 Axes>"
            ]
          },
          "metadata": {
            "tags": [],
            "needs_background": "light"
          }
        }
      ]
    },
    {
      "cell_type": "code",
      "metadata": {
        "id": "XCqy3R8OtWrM",
        "colab_type": "code",
        "colab": {
          "base_uri": "https://localhost:8080/",
          "height": 102
        },
        "outputId": "6d8d849b-39c6-4adc-a491-bd1d2b364aec"
      },
      "source": [
        "#Applying PCA for dimensional reduction\n",
        "n_comp=len(cum_var_per[cum_var_per <= 0.90])\n",
        "print(\"Keeping 90% Info with \",n_comp,\" components\")\n",
        "sklearn_pca = sklearnPCA(n_components=n_comp)\n",
        "A_train_pca = sklearn_pca.fit_transform(A_train)\n",
        "X_test_pca = sklearn_pca.transform(X_test)\n",
        "print(\"Shape before PCA for Train: \",A_train.shape)\n",
        "print(\"Shape after PCA for Train: \",A_train_pca.shape)\n",
        "print(\"Shape before PCA for Test: \",X_test.shape)\n",
        "print(\"Shape after PCA for Test: \",X_test_pca.shape)"
      ],
      "execution_count": 27,
      "outputs": [
        {
          "output_type": "stream",
          "text": [
            "Keeping 90% Info with  235  components\n",
            "Shape before PCA for Train:  (60000, 784)\n",
            "Shape after PCA for Train:  (60000, 235)\n",
            "Shape before PCA for Test:  (10000, 784)\n",
            "Shape after PCA for Test:  (10000, 235)\n"
          ],
          "name": "stdout"
        }
      ]
    },
    {
      "cell_type": "code",
      "metadata": {
        "id": "Er8q4P9mttsC",
        "colab_type": "code",
        "colab": {
          "base_uri": "https://localhost:8080/",
          "height": 119
        },
        "outputId": "d120ab6c-b4f9-48d6-a8ba-2fa5f2658d93"
      },
      "source": [
        "%%time\n",
        "#Reapplying SVM \n",
        "from sklearn.svm import SVC\n",
        "classifier_svm_pca = SVC(kernel = 'rbf', random_state = 0)\n",
        "classifier_svc_pca = classifier_svm_pca.fit(A_train_pca, b_train)"
      ],
      "execution_count": 43,
      "outputs": [
        {
          "output_type": "stream",
          "text": [
            "/usr/local/lib/python3.6/dist-packages/sklearn/utils/validation.py:760: DataConversionWarning:\n",
            "\n",
            "A column-vector y was passed when a 1d array was expected. Please change the shape of y to (n_samples, ), for example using ravel().\n",
            "\n"
          ],
          "name": "stderr"
        },
        {
          "output_type": "stream",
          "text": [
            "CPU times: user 4min 52s, sys: 146 ms, total: 4min 53s\n",
            "Wall time: 4min 53s\n"
          ],
          "name": "stdout"
        }
      ]
    },
    {
      "cell_type": "code",
      "metadata": {
        "id": "h_sXwgqJxcIE",
        "colab_type": "code",
        "colab": {
          "base_uri": "https://localhost:8080/",
          "height": 170
        },
        "outputId": "32365ee6-f408-4a7c-94b3-fc17ca789fa1"
      },
      "source": [
        "%%time\n",
        "#Predicting the values and comparing results with the actual values\n",
        "y_pred_svc_pca = classifier_svc_pca.predict(X_test_pca)\n",
        "print(np.concatenate((y_pred_svc.reshape(len(y_pred_svc_pca),1), y_test.reshape(len(y_test),1)),1))"
      ],
      "execution_count": 44,
      "outputs": [
        {
          "output_type": "stream",
          "text": [
            "[[7 7]\n",
            " [2 2]\n",
            " [1 1]\n",
            " ...\n",
            " [4 4]\n",
            " [5 5]\n",
            " [6 6]]\n",
            "CPU times: user 58.3 s, sys: 4.8 ms, total: 58.3 s\n",
            "Wall time: 58.4 s\n"
          ],
          "name": "stdout"
        }
      ]
    },
    {
      "cell_type": "code",
      "metadata": {
        "id": "-4-OAZP0xtwS",
        "colab_type": "code",
        "colab": {
          "base_uri": "https://localhost:8080/",
          "height": 306
        },
        "outputId": "57d0f5cb-4e83-47c5-bca0-058dfb23b4e5"
      },
      "source": [
        "#Classification Report of Random Forest Classifier\n",
        "print(classification_report(y_test, y_pred_svc_pca))"
      ],
      "execution_count": 45,
      "outputs": [
        {
          "output_type": "stream",
          "text": [
            "              precision    recall  f1-score   support\n",
            "\n",
            "           0       0.98      0.99      0.98       980\n",
            "           1       0.98      0.99      0.99      1135\n",
            "           2       0.96      0.96      0.96      1032\n",
            "           3       0.97      0.97      0.97      1010\n",
            "           4       0.97      0.97      0.97       982\n",
            "           5       0.96      0.97      0.96       892\n",
            "           6       0.98      0.97      0.98       958\n",
            "           7       0.94      0.96      0.95      1028\n",
            "           8       0.96      0.95      0.96       974\n",
            "           9       0.97      0.94      0.96      1009\n",
            "\n",
            "    accuracy                           0.97     10000\n",
            "   macro avg       0.97      0.97      0.97     10000\n",
            "weighted avg       0.97      0.97      0.97     10000\n",
            "\n"
          ],
          "name": "stdout"
        }
      ]
    },
    {
      "cell_type": "markdown",
      "metadata": {
        "id": "kAHuXINf42m3",
        "colab_type": "text"
      },
      "source": [
        "#CNN: Convolution Neural Network"
      ]
    },
    {
      "cell_type": "markdown",
      "metadata": {
        "id": "lqOpoB-TEr-I",
        "colab_type": "text"
      },
      "source": [
        "\n",
        "\n",
        "*  As our data is in the form of images made up of pixel i.e. ranges from 0 to 255 we need to covert these images into matrix and further prosess will make it ot apply the deseired models. \n",
        "\n",
        "*  Also the dimension of the training set is (6000,28,28). Convolutional neural network requre one more dimension so need to reshape the matrix\n",
        "\n",
        "\n"
      ]
    },
    {
      "cell_type": "code",
      "metadata": {
        "id": "C3Nosp6Bnjut",
        "colab_type": "code",
        "colab": {
          "base_uri": "https://localhost:8080/",
          "height": 119
        },
        "outputId": "5965edd1-cb88-4132-979a-1a51f744d7fe"
      },
      "source": [
        "%%time\n",
        "#Reshaping the train and test dataset to fit CNN\n",
        "X_train_cnn = X_train.reshape(X_train.shape[0], 28, 28, 1)\n",
        "X_test_cnn = X_test.reshape(X_test.shape[0], 28, 28, 1)\n",
        "input_shape = (28, 28, 1)\n",
        "\n",
        "# convert class vectors to binary class matrices\n",
        "y_train_cnn = keras.utils.to_categorical(y_train, num_classes = None)\n",
        "y_test_cnn = keras.utils.to_categorical(y_test, num_classes = None)\n",
        "\n",
        "\n",
        "X_train_cnn = X_train_cnn.astype('float32')\n",
        "X_test_cnn = X_test_cnn.astype('float32')\n",
        "\n",
        "\n",
        "print('X_train_cnn shape:', X_train_cnn.shape)\n",
        "print('X_test_cnn shape:', X_test_cnn.shape)\n",
        "print('No of data points in training set:', X_train_cnn.shape[0])\n",
        "print('No of data points in testing set:', X_test_cnn.shape[0])"
      ],
      "execution_count": 31,
      "outputs": [
        {
          "output_type": "stream",
          "text": [
            "X_train_cnn shape: (60000, 28, 28, 1)\n",
            "X_test_cnn shape: (10000, 28, 28, 1)\n",
            "No of data points in training set: 60000\n",
            "No of data points in testing set: 10000\n",
            "CPU times: user 70.1 ms, sys: 0 ns, total: 70.1 ms\n",
            "Wall time: 71.2 ms\n"
          ],
          "name": "stdout"
        }
      ]
    },
    {
      "cell_type": "markdown",
      "metadata": {
        "id": "UaM8XninHPc7",
        "colab_type": "text"
      },
      "source": [
        "Converts a class vector (integers) to binary class matri. A binary matrix representation of the input. The classes axis is placed last."
      ]
    },
    {
      "cell_type": "markdown",
      "metadata": {
        "id": "RE-In7VcFBXv",
        "colab_type": "text"
      },
      "source": [
        "##Creating Model"
      ]
    },
    {
      "cell_type": "code",
      "metadata": {
        "id": "PAkLc067G5Ea",
        "colab_type": "code",
        "colab": {
          "base_uri": "https://localhost:8080/",
          "height": 51
        },
        "outputId": "708bd6bd-3cc8-4855-c1bb-8f6e3b490723"
      },
      "source": [
        "%%time\n",
        "#Assigning values to the parameters\n",
        "batch_size = 128\n",
        "num_classes = 10\n",
        "epochs = 10\n",
        "model = Sequential()\n",
        "model.add(Conv2D(32, kernel_size=(3, 3),activation='relu',input_shape=input_shape))\n",
        "model.add(Conv2D(64, (3, 3), activation='relu'))\n",
        "model.add(MaxPooling2D(pool_size=(2, 2)))\n",
        "model.add(Dropout(0.25))\n",
        "model.add(Flatten())\n",
        "model.add(Dense(256, activation='relu'))\n",
        "model.add(Dropout(0.5))\n",
        "model.add(Dense(num_classes, activation='softmax'))\n",
        "model.compile(loss=keras.losses.categorical_crossentropy,optimizer=keras.optimizers.Adadelta(),metrics=['accuracy'])"
      ],
      "execution_count": 32,
      "outputs": [
        {
          "output_type": "stream",
          "text": [
            "CPU times: user 165 ms, sys: 15.9 ms, total: 181 ms\n",
            "Wall time: 427 ms\n"
          ],
          "name": "stdout"
        }
      ]
    },
    {
      "cell_type": "code",
      "metadata": {
        "id": "55VmUrpQnCcj",
        "colab_type": "code",
        "colab": {
          "base_uri": "https://localhost:8080/",
          "height": 442
        },
        "outputId": "9d44e3cd-3ffb-4d78-e999-2146e20b5bbe"
      },
      "source": [
        "%%time\n",
        "#Fitting the model\n",
        "hist = model.fit(X_train_cnn, y_train_cnn,batch_size=batch_size,epochs=epochs,verbose=1,validation_data=(X_test_cnn, y_test_cnn))\n",
        "print(\"The model has successfully trained\")\n",
        "model.save('mnist.h5')\n",
        "print(\"Saving the model as mnist.h5\")"
      ],
      "execution_count": 33,
      "outputs": [
        {
          "output_type": "stream",
          "text": [
            "Train on 60000 samples, validate on 10000 samples\n",
            "Epoch 1/10\n",
            "60000/60000 [==============================] - 162s 3ms/step - loss: 0.1887 - accuracy: 0.9421 - val_loss: 0.0444 - val_accuracy: 0.9843\n",
            "Epoch 2/10\n",
            "60000/60000 [==============================] - 165s 3ms/step - loss: 0.0608 - accuracy: 0.9817 - val_loss: 0.0340 - val_accuracy: 0.9883\n",
            "Epoch 3/10\n",
            "60000/60000 [==============================] - 165s 3ms/step - loss: 0.0438 - accuracy: 0.9871 - val_loss: 0.0293 - val_accuracy: 0.9893\n",
            "Epoch 4/10\n",
            "60000/60000 [==============================] - 164s 3ms/step - loss: 0.0364 - accuracy: 0.9889 - val_loss: 0.0302 - val_accuracy: 0.9896\n",
            "Epoch 5/10\n",
            "60000/60000 [==============================] - 163s 3ms/step - loss: 0.0306 - accuracy: 0.9901 - val_loss: 0.0282 - val_accuracy: 0.9907\n",
            "Epoch 6/10\n",
            "60000/60000 [==============================] - 164s 3ms/step - loss: 0.0250 - accuracy: 0.9922 - val_loss: 0.0314 - val_accuracy: 0.9902\n",
            "Epoch 7/10\n",
            "60000/60000 [==============================] - 158s 3ms/step - loss: 0.0219 - accuracy: 0.9932 - val_loss: 0.0264 - val_accuracy: 0.9912\n",
            "Epoch 8/10\n",
            "60000/60000 [==============================] - 161s 3ms/step - loss: 0.0190 - accuracy: 0.9942 - val_loss: 0.0248 - val_accuracy: 0.9914\n",
            "Epoch 9/10\n",
            "60000/60000 [==============================] - 163s 3ms/step - loss: 0.0164 - accuracy: 0.9948 - val_loss: 0.0289 - val_accuracy: 0.9906\n",
            "Epoch 10/10\n",
            "60000/60000 [==============================] - 158s 3ms/step - loss: 0.0150 - accuracy: 0.9947 - val_loss: 0.0254 - val_accuracy: 0.9924\n",
            "The model has successfully trained\n",
            "Saving the model as mnist.h5\n",
            "CPU times: user 50min 21s, sys: 47.8 s, total: 51min 9s\n",
            "Wall time: 27min 4s\n"
          ],
          "name": "stdout"
        }
      ]
    },
    {
      "cell_type": "code",
      "metadata": {
        "id": "C2kTHKKAyDN0",
        "colab_type": "code",
        "colab": {
          "base_uri": "https://localhost:8080/",
          "height": 295
        },
        "outputId": "436fc757-1372-496c-ebe8-fa107cb0bce1"
      },
      "source": [
        "#Test loss graph over 10 epochs\n",
        "plt.plot(hist.history['val_loss'], color='g', label=\"validation loss\")\n",
        "plt.title(\"Test Loss\")\n",
        "plt.xlabel(\"Number of Epochs\")\n",
        "plt.ylabel(\"Loss\")\n",
        "plt.legend()\n",
        "plt.show()"
      ],
      "execution_count": 34,
      "outputs": [
        {
          "output_type": "display_data",
          "data": {
            "image/png": "[encoded data removed]",
            "text/plain": [
              "<Figure size 432x288 with 1 Axes>"
            ]
          },
          "metadata": {
            "tags": [],
            "needs_background": "light"
          }
        }
      ]
    },
    {
      "cell_type": "code",
      "metadata": {
        "id": "ZLvr8jgyyizx",
        "colab_type": "code",
        "colab": {
          "base_uri": "https://localhost:8080/",
          "height": 295
        },
        "outputId": "0ada4073-bef0-47f1-e646-61cd24286c85"
      },
      "source": [
        "#Accuracy graph over 10 epochs\n",
        "plt.plot(hist.history['accuracy'], color='b', label=\"Acuuracy\")\n",
        "plt.title(\"Accuracy\")\n",
        "plt.xlabel(\"Number of Epochs\")\n",
        "plt.ylabel(\"Accuracy\")\n",
        "plt.legend()\n",
        "plt.show()"
      ],
      "execution_count": 35,
      "outputs": [
        {
          "output_type": "display_data",
          "data": {
            "image/png": "[encoded data removed]",
            "text/plain": [
              "<Figure size 432x288 with 1 Axes>"
            ]
          },
          "metadata": {
            "tags": [],
            "needs_background": "light"
          }
        }
      ]
    },
    {
      "cell_type": "code",
      "metadata": {
        "id": "0a3CHV9_ykgV",
        "colab_type": "code",
        "colab": {
          "base_uri": "https://localhost:8080/",
          "height": 295
        },
        "outputId": "082feb4c-a9cb-424f-a6f9-ce73d6e33ed5"
      },
      "source": [
        "#loss graph over 10 epochs\n",
        "plt.plot(hist.history['loss'], color='r', label=\"loss\")\n",
        "plt.title(\"Loss\")\n",
        "plt.xlabel(\"Number of Epochs\")\n",
        "plt.ylabel(\"Loss\")\n",
        "plt.legend()\n",
        "plt.show()"
      ],
      "execution_count": 36,
      "outputs": [
        {
          "output_type": "display_data",
          "data": {
            "image/png": "[encoded data removed]",
            "text/plain": [
              "<Figure size 432x288 with 1 Axes>"
            ]
          },
          "metadata": {
            "tags": [],
            "needs_background": "light"
          }
        }
      ]
    },
    {
      "cell_type": "markdown",
      "metadata": {
        "id": "WogKdTNHK_Hz",
        "colab_type": "text"
      },
      "source": [
        "#Training the Model"
      ]
    },
    {
      "cell_type": "code",
      "metadata": {
        "id": "vLQvxPWpcgdE",
        "colab_type": "code",
        "colab": {
          "base_uri": "https://localhost:8080/",
          "height": 265
        },
        "outputId": "ff229cd4-079e-4927-dbb9-f8250ed6116a"
      },
      "source": [
        "#Training over the test image\n",
        "plt.imshow(X_test[120].reshape(28,28),interpolation='nearest')\n",
        "plt.show()"
      ],
      "execution_count": 37,
      "outputs": [
        {
          "output_type": "display_data",
          "data": {
            "image/png": "[encoded data removed]",
            "text/plain": [
              "<Figure size 432x288 with 1 Axes>"
            ]
          },
          "metadata": {
            "tags": [],
            "needs_background": "light"
          }
        }
      ]
    },
    {
      "cell_type": "code",
      "metadata": {
        "id": "QKSn7SO2ob2v",
        "colab_type": "code",
        "colab": {
          "base_uri": "https://localhost:8080/",
          "height": 34
        },
        "outputId": "c86cb960-c878-49bd-ff6e-51ca078fbdd6"
      },
      "source": [
        "#TO see the results\n",
        "image = X_test[120]\n",
        "test_img = image.reshape(1,28,28,1)\n",
        "\n",
        "preds = model.predict(test_img)\n",
        "print(\"The predicted number is: \",np.argmax(preds))"
      ],
      "execution_count": 38,
      "outputs": [
        {
          "output_type": "stream",
          "text": [
            "The predicted number is:  5\n"
          ],
          "name": "stdout"
        }
      ]
    },
    {
      "cell_type": "code",
      "metadata": {
        "id": "Duc3bJeZLmvg",
        "colab_type": "code",
        "colab": {}
      },
      "source": [
        "#Saving the model\n",
        "model.save(\"MNISTMODEL2.hdf5\")"
      ],
      "execution_count": 39,
      "outputs": []
    },
    {
      "cell_type": "code",
      "metadata": {
        "id": "PrpSq7WTOmmU",
        "colab_type": "code",
        "colab": {}
      },
      "source": [
        "import itertools\n",
        "def plot_confusion_matrix(cm, classes,\n",
        "                          normalize=False,\n",
        "                          title='Confusion matrix',\n",
        "                          cmap=plt.cm.Blues):\n",
        "    \"\"\"\n",
        "    This function prints and plots the confusion matrix.\n",
        "    Normalization can be applied by setting `normalize=True`.\n",
        "    \"\"\"\n",
        "    plt.imshow(cm, interpolation='nearest', cmap=cmap)\n",
        "    plt.title(title)\n",
        "    plt.colorbar()\n",
        "    tick_marks = np.arange(len(classes))\n",
        "    plt.xticks(tick_marks, classes, rotation=45)\n",
        "    plt.yticks(tick_marks, classes)\n",
        "\n",
        "    if normalize:\n",
        "        cm = cm.astype('float') / cm.sum(axis=1)[:, np.newaxis]\n",
        "\n",
        "    thresh = cm.max() / 2.\n",
        "    for i, j in itertools.product(range(cm.shape[0]), range(cm.shape[1])):\n",
        "        plt.text(j, i, cm[i, j],\n",
        "                 horizontalalignment=\"center\",\n",
        "                 color=\"white\" if cm[i, j] > thresh else \"black\")\n",
        "\n",
        "    plt.tight_layout()\n",
        "    plt.ylabel('True label')\n",
        "    plt.xlabel('Predicted label')\n"
      ],
      "execution_count": 46,
      "outputs": []
    },
    {
      "cell_type": "code",
      "metadata": {
        "id": "2OfEb8doLnfK",
        "colab_type": "code",
        "colab": {
          "base_uri": "https://localhost:8080/",
          "height": 311
        },
        "outputId": "b3827684-9c2f-4acc-9e7a-76e867a270e7"
      },
      "source": [
        "#Confusion Matrix\n",
        "\n",
        "from sklearn.metrics import confusion_matrix\n",
        "# Predict the values from the validation dataset\n",
        "Y_pred = model.predict(X_test_cnn)\n",
        "# Convert predictions classes to one hot vectors \n",
        "Y_pred_classes = np.argmax(Y_pred,axis = 1) \n",
        "# Convert validation observations to one hot vectors\n",
        "Y_true = np.argmax(y_test_cnn,axis = 1) \n",
        "# compute the confusion matrix\n",
        "confusion_mtx = confusion_matrix(Y_true, Y_pred_classes) \n",
        "# plot the confusion matrix\n",
        "plot_confusion_matrix(confusion_mtx, classes = range(10)) "
      ],
      "execution_count": 41,
      "outputs": [
        {
          "output_type": "display_data",
          "data": {
            "image/png": "[encoded data removed]",
            "text/plain": [
              "<Figure size 432x288 with 2 Axes>"
            ]
          },
          "metadata": {
            "tags": [],
            "needs_background": "light"
          }
        }
      ]
    },
    {
      "cell_type": "code",
      "metadata": {
        "id": "cuo8peWLOCBN",
        "colab_type": "code",
        "colab": {
          "base_uri": "https://localhost:8080/",
          "height": 296
        },
        "outputId": "1e2e9fc8-aac8-4daa-aa21-72f8a8a55cab"
      },
      "source": [
        "# Display some error results \n",
        "\n",
        "# Errors are difference between predicted labels and true labels\n",
        "errors = (Y_pred_classes - Y_true != 0)\n",
        "\n",
        "Y_pred_classes_errors = Y_pred_classes[errors]\n",
        "Y_pred_errors = Y_pred[errors]\n",
        "Y_true_errors = Y_true[errors]\n",
        "X_val_errors = X_test_cnn[errors]\n",
        "\n",
        "def display_errors(errors_index,img_errors,pred_errors, obs_errors):\n",
        "    \"\"\" This function shows 6 images with their predicted and real labels\"\"\"\n",
        "    n = 0\n",
        "    nrows = 2\n",
        "    ncols = 3\n",
        "    fig, ax = plt.subplots(nrows,ncols,sharex=True,sharey=True)\n",
        "    for row in range(nrows):\n",
        "        for col in range(ncols):\n",
        "            error = errors_index[n]\n",
        "            ax[row,col].imshow((img_errors[error]).reshape((28,28)))\n",
        "            ax[row,col].set_title(\"Predicted label :{}\\nTrue label :{}\".format(pred_errors[error],obs_errors[error]))\n",
        "            n += 1\n",
        "\n",
        "# Probabilities of the wrong predicted numbers\n",
        "Y_pred_errors_prob = np.max(Y_pred_errors,axis = 1)\n",
        "\n",
        "# Predicted probabilities of the true values in the error set\n",
        "true_prob_errors = np.diagonal(np.take(Y_pred_errors, Y_true_errors, axis=1))\n",
        "\n",
        "# Difference between the probability of the predicted label and the true label\n",
        "delta_pred_true_errors = Y_pred_errors_prob - true_prob_errors\n",
        "\n",
        "# Sorted list of the delta prob errors\n",
        "sorted_dela_errors = np.argsort(delta_pred_true_errors)\n",
        "\n",
        "# Top 6 errors \n",
        "most_important_errors = sorted_dela_errors[-6:]\n",
        "\n",
        "# Show the top 6 errors\n",
        "display_errors(most_important_errors, X_val_errors, Y_pred_classes_errors, Y_true_errors)\n"
      ],
      "execution_count": 42,
      "outputs": [
        {
          "output_type": "display_data",
          "data": {
            "image/png": "[encoded data removed]",
            "text/plain": [
              "<Figure size 432x288 with 6 Axes>"
            ]
          },
          "metadata": {
            "tags": [],
            "needs_background": "light"
          }
        }
      ]
    }
  ]
}